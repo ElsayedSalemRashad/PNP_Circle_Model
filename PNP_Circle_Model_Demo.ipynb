{
  "nbformat": 4,
  "nbformat_minor": 0,
  "metadata": {
    "colab": {
      "provenance": [],
      "authorship_tag": "ABX9TyPCa0ASI0rFIqxnUsFPc2mj",
      "include_colab_link": true
    },
    "kernelspec": {
      "name": "python3",
      "display_name": "Python 3"
    },
    "language_info": {
      "name": "python"
    }
  },
  "cells": [
    {
      "cell_type": "markdown",
      "metadata": {
        "id": "view-in-github",
        "colab_type": "text"
      },
      "source": [
        "<a href=\"https://colab.research.google.com/github/ElsayedSalemRashad/PNP_Circle_Model/blob/main/PNP_Circle_Model_Demo.ipynb\" target=\"_parent\"><img src=\"https://colab.research.google.com/assets/colab-badge.svg\" alt=\"Open In Colab\"/></a>"
      ]
    },
    {
      "cell_type": "code",
      "execution_count": 5,
      "metadata": {
        "colab": {
          "base_uri": "https://localhost:8080/"
        },
        "id": "Tbtyl-nCKQ4S",
        "outputId": "cd2e3c15-cfc1-4905-c89f-51125903a74d"
      },
      "outputs": [
        {
          "output_type": "stream",
          "name": "stdout",
          "text": [
            "8 = 3 + 5\n",
            "12 = 5 + 7\n",
            "16 = 3 + 13\n",
            "20 = 3 + 17\n",
            "24 = 5 + 19\n",
            "28 = 5 + 23\n",
            "32 = 3 + 29\n",
            "36 = 5 + 31\n",
            "40 = 3 + 37\n",
            "44 = 3 + 41\n",
            "48 = 5 + 43\n",
            "52 = 5 + 47\n",
            "56 = 3 + 53\n",
            "60 = 7 + 53\n",
            "64 = 3 + 61\n",
            "68 = 7 + 61\n",
            "72 = 5 + 67\n",
            "76 = 3 + 73\n",
            "80 = 7 + 73\n",
            "84 = 5 + 79\n",
            "88 = 5 + 83\n",
            "92 = 3 + 89\n",
            "96 = 7 + 89\n"
          ]
        }
      ],
      "source": [
        "import math\n",
        "\n",
        "def is_prime(n):\n",
        "    if n <= 1:\n",
        "        return False\n",
        "    if n == 2:\n",
        "        return True\n",
        "    if n % 2 == 0:\n",
        "        return False\n",
        "    for i in range(3, int(math.sqrt(n)) + 1, 2):\n",
        "        if n % i == 0:\n",
        "            return False\n",
        "    return True\n",
        "\n",
        "def circular_np_to_p(n):\n",
        "    if n % 4 != 0 or n < 8:\n",
        "        return None\n",
        "\n",
        "    for p in range(3, n // 2 + 1, 2):\n",
        "        q = n - p\n",
        "        if p != q and is_prime(p) and is_prime(q):\n",
        "            return (p, q)\n",
        "    return None\n",
        "\n",
        "# Example usage\n",
        "for n in range(8, 100, 4):\n",
        "    result = circular_np_to_p(n)\n",
        "    if result:\n",
        "        print(f\"{n} = {result[0]} + {result[1]}\")\n",
        "    else:\n",
        "        print(f\"No valid primes found for {n}\")"
      ]
    },
    {
      "cell_type": "code",
      "source": [],
      "metadata": {
        "id": "fh1m2qHTKU7m"
      },
      "execution_count": 5,
      "outputs": []
    }
  ]
}